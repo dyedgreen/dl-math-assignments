{
 "cells": [
  {
   "cell_type": "markdown",
   "metadata": {},
   "source": [
    "# Assignment 3\n",
    "\n",
    "Suggested due date: 24th October 2018\n",
    "\n",
    "## Convolutional neural network\n",
    "\n",
    "The aims for this assignment are:\n",
    "* Implement a CNN classifier in Tensorflow\n",
    "* Experiment with batch normalisation, dropout and residual connections\n",
    "\n",
    "This assignment follows directly from last week’s assignment. We will build a convolutional neural network (CNN) classifier on the MNIST dataset.\n",
    "\n",
    "## MNIST CNN classifier\n",
    "\n",
    "You will have already downloaded the MNIST dataset, and trained an MLP classifier for last week’s assignment. You should also have recorded the network’s performance on the training and test sets, have an estimate for the number of parameters used and recorded the training time. For this week we will train a CNN on the same task and compare it to the MLP on all these benchmarks.\n",
    "\n",
    "Recall the MNIST dataset consists of 28x28 grayscale images, with associated labels for which digit the image contains (0-9). The training set consists of 60,000 examples and the test set is 10,000 examples.\n",
    "\n",
    "For the MLP, we flattened the inputs so the images were represented as 784-length vectors, and fed them through several dense layers, resulting in a final softmax layer to predict the digit. Note that this architecture disregards the spatial structure of the inputs, and is inefficient in terms of parameters. \n",
    "\n",
    "We exploit the CNN architecture to introduce an _infinitely strong prior_ into the network construction, which asserts the importance of local feature extraction and equivariant representations. \n",
    "\n",
    "In this week’s lecture we covered several standard ConvNet architectures, which should serve as inspiration for your own network design. The output of your network should again be a 10-way softmax layer to predict the digit label.\n",
    "\n",
    "## Implementation in Tensorflow\n",
    "\n",
    "The assignment is to implement the CNN classifier for MNIST in Tensorflow, train it and test the classification performance on the test set. You should choose the number and types of layers in the network (try testing a few options).\n",
    "\n",
    "* We recommend to use the ```tf.layers.conv2d``` function for the convolutional layers in the network (but cf. with the lower-level ```tf.nn.conv2d```)\n",
    "* Similarly, consider using ```tf.layers.max_pooling2d``` and ```tf.layers.dropout``` in your network\n",
    "* As before, use the ```tf.nn.sparse_softmax_cross_entropy_with_logits_v2``` to compute the loss\n",
    "* Follow the design principles of the architectures covered in the lecture: build blocks of convolutional and pooling layers, with batch normalisation\n",
    "* Use either fully connected layers leading to a softmax output at the backend of the network, or implement a global pooling layer (as in GoogLeNet / ResNet)\n",
    "* Watch out for the dependencies in Tensorflow when using batch normalisation, and also the mode (training/inference)\n",
    "* As before, record and document the learning curves (train & test loss vs training iterations or epochs), and report the final train and test loss. \n",
    "* Calculate the number of parameters used in the network, and record the time required to train the network\n",
    "* Try to beat your own MLP implementation on the same task! Compare the above benchmarks to your MLP network\n"
   ]
  },
  {
   "cell_type": "code",
   "execution_count": 78,
   "metadata": {},
   "outputs": [],
   "source": [
    "import torch\n",
    "import torch.nn as nn\n",
    "import torch.nn.functional as F\n",
    "\n",
    "import torchvision\n",
    "\n",
    "import matplotlib.pyplot as plt\n",
    "import numpy as np"
   ]
  },
  {
   "cell_type": "code",
   "execution_count": 413,
   "metadata": {},
   "outputs": [],
   "source": [
    "# Load the MNIST dataset\n",
    "\n",
    "set_train = torchvision.datasets.MNIST(\"data/MNIST\", download=True, train=True, transform=torchvision.transforms.ToTensor())\n",
    "set_test = torchvision.datasets.MNIST(\"data/MNIST\", train=False, transform=torchvision.transforms.ToTensor())\n",
    "\n",
    "loader_train = torch.utils.data.DataLoader(set_train, batch_size=128)\n",
    "loader_test = torch.utils.data.DataLoader(set_test, batch_size=1)"
   ]
  },
  {
   "cell_type": "code",
   "execution_count": 369,
   "metadata": {},
   "outputs": [],
   "source": [
    "# Build our model (naieve CNN with some pooling)\n",
    "class CNN(nn.Module):\n",
    "    \n",
    "    def __init__(self):\n",
    "        super().__init__()\n",
    "        \n",
    "        self.conv = nn.Sequential(\n",
    "            nn.Conv2d(1, 8, 9),\n",
    "            nn.BatchNorm2d(8),\n",
    "            nn.ReLU(),\n",
    "            nn.MaxPool2d(2),\n",
    "            nn.Conv2d(8, 16, 3),\n",
    "            nn.BatchNorm2d(16),\n",
    "            nn.ReLU(),\n",
    "            nn.MaxPool2d(2),\n",
    "            nn.Conv2d(16, 32, 4),\n",
    "            nn.BatchNorm2d(32),\n",
    "            nn.ReLU()\n",
    "        )\n",
    "        \n",
    "        self.lin = nn.Sequential(\n",
    "            nn.BatchNorm1d(32),\n",
    "            nn.Linear(32, 16),\n",
    "            nn.ReLU(),\n",
    "            nn.Linear(16, 10),\n",
    "            nn.Softmax(dim=1)\n",
    "        )\n",
    "        \n",
    "    def forward(self, x):\n",
    "        x = self.conv(x)\n",
    "        return self.lin(x.view(-1, 32))    "
   ]
  },
  {
   "cell_type": "code",
   "execution_count": 370,
   "metadata": {},
   "outputs": [
    {
     "name": "stdout",
     "output_type": "stream",
     "text": [
      "tensor(2)\n"
     ]
    },
    {
     "data": {
      "image/png": "[encoded data removed]",
      "text/plain": [
       "<Figure size 432x288 with 1 Axes>"
      ]
     },
     "metadata": {
      "needs_background": "light"
     },
     "output_type": "display_data"
    }
   ],
   "source": [
    "# Display some image\n",
    "idx = np.random.choice(np.arange(len(set_train)))\n",
    "img = set_train[idx][0]\n",
    "\n",
    "print(set_train[idx][1])\n",
    "plt.imshow(img.squeeze())\n",
    "plt.show()\n",
    "\n",
    "# model = CNN()\n",
    "# model.eval()\n",
    "# print(model(img.unsqueeze(0)))"
   ]
  },
  {
   "cell_type": "code",
   "execution_count": 371,
   "metadata": {},
   "outputs": [],
   "source": [
    "from IPython.display import clear_output\n",
    "\n",
    "def show_graph(losses, epoch):\n",
    "    clear_output(wait=True)\n",
    "    plt.plot(losses)\n",
    "    plt.title(\"Epoch: {}\".format(epoch))\n",
    "    plt.show()"
   ]
  },
  {
   "cell_type": "code",
   "execution_count": 372,
   "metadata": {},
   "outputs": [],
   "source": [
    "# Now, train using Adam and binary cross entropy loss\n",
    "def loss_fn(pred, target):\n",
    "    return F.cross_entropy(pred, target, reduction=\"elementwise_mean\")\n",
    "\n",
    "model = CNN()\n",
    "loss_train = []\n",
    "\n",
    "adam = torch.optim.Adam(model.parameters(), lr=1e-3)\n"
   ]
  },
  {
   "cell_type": "code",
   "execution_count": 376,
   "metadata": {},
   "outputs": [
    {
     "data": {
      "image/png": "[encoded data removed]",
      "text/plain": [
       "<Figure size 432x288 with 1 Axes>"
      ]
     },
     "metadata": {
      "needs_background": "light"
     },
     "output_type": "display_data"
    },
    {
     "name": "stdout",
     "output_type": "stream",
     "text": [
      "DONE!\n"
     ]
    }
   ],
   "source": [
    "model.train()\n",
    "\n",
    "for epoch in range(10):\n",
    "    for batch_idx, (x, y) in enumerate(loader_train):\n",
    "        adam.zero_grad()\n",
    "        pred = model(x)\n",
    "        l = loss_fn(pred, y)\n",
    "        loss_train.append(l.item())\n",
    "        l.backward()\n",
    "        adam.step()\n",
    "        if batch_idx % 50 == 0:\n",
    "            show_graph(loss_train, epoch)\n",
    "print(\"DONE!\")"
   ]
  },
  {
   "cell_type": "code",
   "execution_count": 377,
   "metadata": {},
   "outputs": [
    {
     "name": "stdout",
     "output_type": "stream",
     "text": [
      "9866 134\n",
      "Correct: 98.66%\n"
     ]
    }
   ],
   "source": [
    "# Test the model accuracy on the test data\n",
    "model.eval()\n",
    "correct = 0\n",
    "incorrect = 0\n",
    "\n",
    "with torch.no_grad():\n",
    "    for _, (x, y) in enumerate(loader_test):\n",
    "        pred = model(x).squeeze()\n",
    "        if torch.argmax(pred) == y:\n",
    "            correct += 1\n",
    "        else:\n",
    "            incorrect += 1\n",
    "\n",
    "print(correct, incorrect)\n",
    "print(\"Correct: {:.2f}%\".format(correct/(correct+incorrect)*100))\n",
    "\n",
    "# BEAT: 191, 189, 134"
   ]
  },
  {
   "cell_type": "code",
   "execution_count": 428,
   "metadata": {},
   "outputs": [
    {
     "data": {
      "image/png": "[encoded data removed]",
      "text/plain": [
       "<Figure size 432x288 with 2 Axes>"
      ]
     },
     "metadata": {
      "needs_background": "light"
     },
     "output_type": "display_data"
    }
   ],
   "source": [
    "# Visualize predictions\n",
    "import random as rand\n",
    "idx = rand.randint(0, len(set_test)-1)\n",
    "img = set_test[idx][0]\n",
    "label = set_test[idx][1]\n",
    "\n",
    "with torch.no_grad():\n",
    "    model.eval()\n",
    "    pred = model(img.unsqueeze(0)).squeeze()\n",
    "\n",
    "    _, ax = plt.subplots(1, 2)\n",
    "    ax[0].imshow(img.squeeze())\n",
    "    ax[0].set_title(\"Label: {}\".format(label.item()))\n",
    "    ax[1].bar(range(10), pred)\n",
    "    ax[1].set_xticks(range(10))\n",
    "    ax[1].set_title(\"Prediction: {}\".format(torch.argmax(pred)))"
   ]
  },
  {
   "cell_type": "code",
   "execution_count": 429,
   "metadata": {},
   "outputs": [
    {
     "name": "stdout",
     "output_type": "stream",
     "text": [
      "# of parameters: 10922\n"
     ]
    }
   ],
   "source": [
    "# Number of parameters\n",
    "param_num = 0\n",
    "for param in model.parameters():\n",
    "    param_num += torch.prod(torch.tensor(param.size())).item()\n",
    "print(\"# of parameters:\", param_num)"
   ]
  }
 ],
 "metadata": {
  "kernelspec": {
   "display_name": "Python 3",
   "language": "python",
   "name": "python3"
  },
  "language_info": {
   "codemirror_mode": {
    "name": "ipython",
    "version": 3
   },
   "file_extension": ".py",
   "mimetype": "text/x-python",
   "name": "python",
   "nbconvert_exporter": "python",
   "pygments_lexer": "ipython3",
   "version": "3.6.6"
  }
 },
 "nbformat": 4,
 "nbformat_minor": 2
}
