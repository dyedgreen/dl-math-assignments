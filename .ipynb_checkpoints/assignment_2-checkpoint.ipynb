{
 "cells": [
  {
   "cell_type": "markdown",
   "metadata": {},
   "source": [
    "# Assignment 2\n",
    "\n",
    "Suggested due date: 24th October 2018\n",
    "\n",
    "## Multilayer perceptron / Feedforward network\n",
    "\n",
    "The aims for this assignment are:\n",
    "* Implement a simple MLP classifier in Tensorflow\n",
    "* Train a neural network using backpropagation\n",
    "\n",
    "We will build a multilayer perceptron as a classifier, and train it using backpropagation. The MLP consists of several densely connected layers\n",
    "\n",
    "## MNIST MLP classifier\n",
    "\n",
    "<p align=\"center\">\n",
    "  <img width=\"460\" height=\"300\" src=mnist.png>\n",
    "</p>\n",
    "\n",
    "For this assignment you will need to download the MNIST dataset, which is available <a href=“http://yann.lecun.com/exdb/mnist/“>here</a>. This dataset consists of 28x28 grayscale images, with associated labels for which digit the image contains (0-9). The training set consists of 60,000 examples and the test set is 10,000 examples.\n",
    "\n",
    "The MLP is a densely connected network, with <a href=\"https://www.codecogs.com/eqnedit.php?latex=$N$\" target=\"_blank\"><img src=\"https://latex.codecogs.com/gif.latex?$N$\" title=\"$N$\" /></a> layers <a href=\"https://www.codecogs.com/eqnedit.php?latex=$h_1,\\ldots,h_N$\" target=\"_blank\"><img src=\"https://latex.codecogs.com/gif.latex?$h_1,\\ldots,h_N$\" title=\"$h_1,\\ldots,h_N$\" /></a>, where <a href=\"https://www.codecogs.com/eqnedit.php?latex=$h_i\\in\\mathbb{R}^{n_i}$\" target=\"_blank\"><img src=\"https://latex.codecogs.com/gif.latex?$h_i\\in\\mathbb{R}^{n_i}$\" title=\"$h_i\\in\\mathbb{R}^{n_i}$\" /></a>. The input <a href=\"https://www.codecogs.com/eqnedit.php?latex=$\\mathbf{x}&space;=&space;h_1$\" target=\"_blank\"><img src=\"https://latex.codecogs.com/gif.latex?$\\mathbf{x}&space;=&space;h_1$\" title=\"$\\mathbf{x} = h_1$\" /></a> and output <a href=\"https://www.codecogs.com/eqnedit.php?latex=$\\mathbf{y}&space;=&space;h_N$\" target=\"_blank\"><img src=\"https://latex.codecogs.com/gif.latex?$\\mathbf{y}&space;=&space;h_N$\" title=\"$\\mathbf{y} = h_N$\" /></a>. For <a href=\"https://www.codecogs.com/eqnedit.php?latex=$i=1,\\ldots,N-1$\" target=\"_blank\"><img src=\"https://latex.codecogs.com/gif.latex?$i=1,\\ldots,N-1$\" title=\"$i=1,\\ldots,N-1$\" /></a>, the pre-activations are given by\n",
    "\n",
    "<a href=\"https://www.codecogs.com/eqnedit.php?latex=\\hat{h}_{i&plus;1}&space;=&space;W^{(i)}h_i&space;&plus;&space;b^{(i)}\" target=\"_blank\"><img src=\"https://latex.codecogs.com/gif.latex?\\hat{h}_{i&plus;1}&space;=&space;W^{(i)}h_i&space;&plus;&space;b^{(i)}\" title=\"\\hat{h}_{i+1} = W^{(i)}h_i + b^{(i)}\" /></a>,\n",
    "\n",
    "where <a href=\"https://www.codecogs.com/eqnedit.php?latex=$W^{(i)}\\in\\mathbb{R}^{n_{i&plus;1}\\times&space;n_i}$\" target=\"_blank\"><img src=\"https://latex.codecogs.com/gif.latex?$W^{(i)}\\in\\mathbb{R}^{n_{i&plus;1}\\times&space;n_i}$\" title=\"$W^{(i)}\\in\\mathbb{R}^{n_{i+1}\\times n_i}$\" /></a> and <a href=\"https://www.codecogs.com/eqnedit.php?latex=$b^{(i)}&space;\\in\\mathbb{R}^{n_{i&plus;1}}$\" target=\"_blank\"><img src=\"https://latex.codecogs.com/gif.latex?$b^{(i)}&space;\\in\\mathbb{R}^{n_{i&plus;1}}$\" title=\"$b^{(i)} \\in\\mathbb{R}^{n_{i+1}}$\" /></a>. The post-activations are given by \n",
    "\n",
    "<a href=\"https://www.codecogs.com/eqnedit.php?latex=h_{i&plus;1}&space;=&space;\\sigma&space;(\\hat{h}_{i&plus;1})\" target=\"_blank\"><img src=\"https://latex.codecogs.com/gif.latex?h_{i&plus;1}&space;=&space;\\sigma&space;(\\hat{h}_{i&plus;1})\" title=\"h_{i+1} = \\sigma (\\hat{h}_{i+1})\" /></a>,\n",
    "\n",
    "where <a href=\"https://www.codecogs.com/eqnedit.php?latex=$\\sigma:\\mathbb{R}\\rightarrow\\mathbb{R}$\" target=\"_blank\"><img src=\"https://latex.codecogs.com/gif.latex?$\\sigma:\\mathbb{R}\\rightarrow\\mathbb{R}$\" title=\"$\\sigma:\\mathbb{R}\\rightarrow\\mathbb{R}$\" /></a> is an activation function that is applied element-wise.\n",
    "\n",
    "For our classifier, we will flatten the inputs so it is a 784-length vector, and this will serve as input to the first hidden layer. You may also want to rescale the inputs. The output should be a 10-way softmax layer to predict the digit label.\n",
    "\n",
    "## Implementation in Tensorflow\n",
    "\n",
    "The assignment is to implement the MLP classifier for MNIST in Tensorflow, train it with one of the available optimisers and test the classification performance on the test set. Write your solution as a python script.\n",
    "\n",
    "You should choose the number of layers for the network, the size of those layers and the activation functions (try testing a few options for these hyperparameters).\n",
    "\n",
    "* Use the ```tf.layers.dense``` function for the hidden layers in the network\n",
    "* We recommend to use the ```tf.nn.sparse_softmax_cross_entropy_with_logits_v2``` to compute the loss\n",
    "* Read the TF docs carefully: the above loss function requires logits as inputs. Therefore if using this, the network output should be a linear layer\n",
    "* Create a train op in Tensorflow and train the network according to the schedule/criteria of your choice\n",
    "* Record and document the learning curves (train & test loss vs training iterations or epochs), and report the final train and test loss\n",
    "* Calculate the number of parameters used in the network, and record the time required to train the network\n"
   ]
  },
  {
   "cell_type": "code",
   "execution_count": 2,
   "metadata": {},
   "outputs": [],
   "source": [
    "# Pytorch\n",
    "import torch\n",
    "import torch.nn as nn\n",
    "import torch.nn.functional as F\n",
    "import torchvision\n",
    "import torch.utils"
   ]
  },
  {
   "cell_type": "code",
   "execution_count": 3,
   "metadata": {},
   "outputs": [],
   "source": [
    "from matplotlib import pyplot as plt"
   ]
  },
  {
   "cell_type": "code",
   "execution_count": 101,
   "metadata": {},
   "outputs": [],
   "source": [
    "# MLP Model\n",
    "class TorchModel(nn.Module):\n",
    "    \n",
    "    def __init__(self):\n",
    "        super().__init__()\n",
    "        \n",
    "        self.model = nn.Sequential(\n",
    "            nn.Linear(28**2, 512),\n",
    "            nn.Linear(512, 512),\n",
    "            nn.Linear(512, 10),\n",
    "            nn.Softmax(dim=1)\n",
    "        )\n",
    "        \n",
    "    def forward(self, x):\n",
    "        return self.model(x)"
   ]
  },
  {
   "cell_type": "code",
   "execution_count": 102,
   "metadata": {},
   "outputs": [],
   "source": [
    "mnist_data = torchvision.datasets.MNIST(root=\"data/MNIST\", download=True, transform=torchvision.transforms.ToTensor())\n",
    "mnist = torch.utils.data.DataLoader(mnist_data, batch_size=64)"
   ]
  },
  {
   "cell_type": "code",
   "execution_count": 103,
   "metadata": {},
   "outputs": [
    {
     "data": {
      "image/png": "[encoded data removed]",
      "text/plain": [
       "<Figure size 432x288 with 1 Axes>"
      ]
     },
     "metadata": {
      "needs_background": "light"
     },
     "output_type": "display_data"
    }
   ],
   "source": [
    "import random as rand\n",
    "plt.imshow(mnist_data[rand.randrange(len(mnist_data))][0].squeeze())\n",
    "plt.show()"
   ]
  },
  {
   "cell_type": "code",
   "execution_count": 116,
   "metadata": {},
   "outputs": [],
   "source": [
    "model = TorchModel()\n",
    "adam = torch.optim.Adam(model.parameters(), lr=1e-3)\n",
    "losses = []"
   ]
  },
  {
   "cell_type": "code",
   "execution_count": 117,
   "metadata": {},
   "outputs": [],
   "source": [
    "def to_one_hot(idx):\n",
    "    one_hot = torch.zeros(idx.size(0), 10)\n",
    "    for i in range(idx.size(0)):\n",
    "        one_hot[i][idx[i].item()] = 1.\n",
    "    return one_hot"
   ]
  },
  {
   "cell_type": "code",
   "execution_count": 118,
   "metadata": {},
   "outputs": [],
   "source": [
    "from IPython.display import clear_output\n",
    "\n",
    "def show_graph(losses, epoch):\n",
    "    clear_output(wait=True)\n",
    "    plt.plot(losses)\n",
    "    plt.title(\"Epoch: {}\".format(epoch))\n",
    "    plt.show()"
   ]
  },
  {
   "cell_type": "code",
   "execution_count": 119,
   "metadata": {
    "scrolled": true
   },
   "outputs": [
    {
     "data": {
      "image/png": "[encoded data removed]",
      "text/plain": [
       "<Figure size 432x288 with 1 Axes>"
      ]
     },
     "metadata": {
      "needs_background": "light"
     },
     "output_type": "display_data"
    }
   ],
   "source": [
    "model.train()\n",
    "for epoch in range(2):\n",
    "    for i, (x, y) in enumerate(mnist):\n",
    "        adam.zero_grad()\n",
    "        l = (to_one_hot(y) - model(x.view(-1, 28**2)))**2 / 2\n",
    "        l.sum().backward()\n",
    "        adam.step()\n",
    "        losses.append(l.sum() / l.size(0))\n",
    "        if i % 50 == 0:\n",
    "            show_graph(losses, epoch)\n",
    "print(\"DONE!\")"
   ]
  },
  {
   "cell_type": "code",
   "execution_count": 122,
   "metadata": {},
   "outputs": [],
   "source": [
    "mnist_data_test = torchvision.datasets.MNIST(root=\"data/MNIST\", train=False, download=True, transform=torchvision.transforms.ToTensor())"
   ]
  },
  {
   "cell_type": "code",
   "execution_count": 123,
   "metadata": {},
   "outputs": [
    {
     "name": "stdout",
     "output_type": "stream",
     "text": [
      "Success rate: 86.88%\n"
     ]
    }
   ],
   "source": [
    "# Test overall performance on test-data\n",
    "test_data_loader = torch.utils.data.DataLoader(mnist_data_test, batch_size=1)\n",
    "success = 0\n",
    "fail = 0\n",
    "\n",
    "with torch.no_grad():\n",
    "    model.eval()\n",
    "    for _, (x, y) in enumerate(test_data_loader):\n",
    "        if y == torch.argmax(model(x.view(-1, 28**2)).squeeze()):\n",
    "            success += 1\n",
    "        else:\n",
    "            fail += 1\n",
    "print(\"Success rate: {}%\".format(success * 100. / (success + fail)))"
   ]
  },
  {
   "cell_type": "code",
   "execution_count": 154,
   "metadata": {},
   "outputs": [
    {
     "data": {
      "image/png": "[encoded data removed]",
      "text/plain": [
       "<Figure size 432x288 with 2 Axes>"
      ]
     },
     "metadata": {
      "needs_background": "light"
     },
     "output_type": "display_data"
    }
   ],
   "source": [
    "# View predictions\n",
    "\n",
    "with torch.no_grad():\n",
    "    i = rand.randrange(len(mnist_data_test))\n",
    "\n",
    "    fig, ax = plt.subplots(1, 2)\n",
    "    ax[0].imshow(mnist_data_test[i][0].squeeze())\n",
    "    ax[0].set_title(\"Label: {}\".format(mnist_data_test[i][1]))\n",
    "\n",
    "    model.eval()\n",
    "    pred = model(mnist_data_test[i][0].view(1, 28**2)).detach().view(10)\n",
    "\n",
    "    ax[1].bar(range(10), pred)\n",
    "    ax[1].set_xticks(range(10))\n",
    "\n",
    "    plt.show()"
   ]
  },
  {
   "cell_type": "code",
   "execution_count": 148,
   "metadata": {},
   "outputs": [
    {
     "name": "stdout",
     "output_type": "stream",
     "text": [
      "# of parameters: 669706\n"
     ]
    }
   ],
   "source": [
    "# Number of parameters\n",
    "param_num = 0\n",
    "for param in model.parameters():\n",
    "    param_num += torch.prod(torch.tensor(param.size())).item()\n",
    "print(\"# of parameters:\", param_num)"
   ]
  }
 ],
 "metadata": {
  "kernelspec": {
   "display_name": "Python 3",
   "language": "python",
   "name": "python3"
  },
  "language_info": {
   "codemirror_mode": {
    "name": "ipython",
    "version": 3
   },
   "file_extension": ".py",
   "mimetype": "text/x-python",
   "name": "python",
   "nbconvert_exporter": "python",
   "pygments_lexer": "ipython3",
   "version": "3.6.6"
  }
 },
 "nbformat": 4,
 "nbformat_minor": 2
}
