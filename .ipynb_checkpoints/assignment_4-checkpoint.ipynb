{
 "cells": [
  {
   "cell_type": "markdown",
   "metadata": {},
   "source": [
    "# Assignment 4\n",
    "\n",
    "Suggested due date : 7th November 2018\n",
    "\n",
    "## Q-learning on Frozen Lake with OpenAI Gym\n",
    "\n",
    "The aims for this assignment are:\n",
    "* Get familiar with OpenAI Gym and more particularly the FrozenLake environment.\n",
    "* Implement the tabular Q-learning algorithm\n",
    "\n",
    "## OpenAI Gym\n",
    "\n",
    "For the purpose of focusing on the algorithms, we will use standard environments provided by the OpenAI Gym suite. OpenAI Gym provides controllable environments (see <a href=\"https://gym.openai.com/envs/\">here</a> and <a href=\"https://gym.openai.com/docs/\">docs here</a>) for research in reinforcement learning.\n",
    "We will use a simple toy problem to illustrate reinforcement learning algorithms properties. Especially, we will try to solve the FrozenLake-v0 environment (see <a href=\"https://gym.openai.com/envs/FrozenLake-v0\">here</a>).\n",
    "\n",
    "To get used to the OpenAI Gym suite, we will first try to load an environment and apply random actions to it. Once you have instantiated your environment, the most important command is the **env.step(action)** one.\n",
    "It applies the selected action to the environment and returns an observation (next state), a reward, a flag that is set to True if the episode has terminated, and some debug info.\n",
    "Try to use a different policy (for instance, a constant action) to understand the role of that command.\n",
    "\n",
    "Notice that the FrozenLake-v0 environment is non-deterministic (you can think of it as a slippery, or stochastic, GridWorld ) and you can’t compute the transition probabilities easily. This is why we will use reinforcement learning.\n",
    "\n",
    "OpenAI considers the task solved if your success rate is over 76%.\n",
    "\n",
    "## Q-learning\n",
    "\n",
    "Note that since we are not using function approximation for this tabular problem.\n",
    "Q-learning is based on an online update of the action-value function\n",
    "\n",
    "<a href=\"https://www.codecogs.com/eqnedit.php?latex=Q_{t&plus;1}(s_t,a_t)&space;\\leftarrow&space;Q_{t}(s_t,&space;a_t)&space;&plus;&space;\\alpha&space;\\Big(&space;r_t&space;&plus;&space;\\gamma&space;\\cdot&space;\\underset{b}{\\max}&space;Q_{t}(s_{t&plus;1},b)&space;-&space;Q_{t}(s_t,a_t)&space;\\Big)\" target=\"_blank\"><img src=\"https://latex.codecogs.com/gif.latex?Q_{t&plus;1}(s_t,a_t)&space;\\leftarrow&space;Q_{t}(s_t,&space;a_t)&space;&plus;&space;\\alpha&space;\\Big(&space;r_t&space;&plus;&space;\\gamma&space;\\cdot&space;\\underset{b}{\\max}&space;Q_{t}(s_{t&plus;1},b)&space;-&space;Q_{t}(s_t,a_t)&space;\\Big)\" title=\"Q_{t+1}(s_t,a_t) \\leftarrow Q_{t}(s_t, a_t) + \\alpha \\Big( r_t + \\gamma \\cdot \\underset{b}{\\max} Q_{t}(s_{t+1},b) - Q_{t}(s_t,a_t) \\Big)\" /></a>\n",
    "\n",
    "where alpha is a learning rate, and gamma a discount factor (we recommend values of 0.1 and 0.99 here respectively).\n",
    "Most of the time, Q-learning is implemented with an epsilon-greedy exploration strategy ; this means selecting a random action (exploring) with probability epsilon, and selecting the best action with probability 1-epsilon.\n",
    "\n",
    "To this end:\n",
    "\n",
    "* Define a Q-table of the correct size to host the Q-function estimate (initialized randomly).\n",
    "* Implement the Q-learning algorithm with epsilon-greedy - try several constant values, from 0.5 to 0.1.\n",
    "* Measure your success rate by counting the number of succesful trials on a sliding window of 100 episodes.\n",
    "* Anneal your epsilon rate with time (ie schedule its decay to a very small value over time). **Observe how drastically this impacts performance**.\n",
    "* Since the environment is stochastic, the correct evaluation involves measuring the quality of the algorithm on average, over a handful of trials. Use that as your measure.\n",
    "* Try changing the update rule to the SARSA algorithm, which shares the same logic but with on-policy update rule\n",
    "\n",
    "<a href=\"https://www.codecogs.com/eqnedit.php?latex=Q_{t&plus;1}(s_t,a_t)&space;\\leftarrow&space;Q_{t}(s_t,&space;a_t)&space;&plus;&space;\\alpha&space;\\Big(&space;r_t&space;&plus;&space;\\gamma&space;\\cdot&space;Q_{t}(s_{t&plus;1},a_{t&plus;1})&space;-&space;Q_{t}(s_t,a_t)&space;\\Big)\" target=\"_blank\"><img src=\"https://latex.codecogs.com/gif.latex?Q_{t&plus;1}(s_t,a_t)&space;\\leftarrow&space;Q_{t}(s_t,&space;a_t)&space;&plus;&space;\\alpha&space;\\Big(&space;r_t&space;&plus;&space;\\gamma&space;\\cdot&space;Q_{t}(s_{t&plus;1},a_{t&plus;1})&space;-&space;Q_{t}(s_t,a_t)&space;\\Big)\" title=\"Q_{t+1}(s_t,a_t) \\leftarrow Q_{t}(s_t, a_t) + \\alpha \\Big( r_t + \\gamma \\cdot Q_{t}(s_{t+1},a_{t+1}) - Q_{t}(s_t,a_t) \\Big)\" /></a>\n",
    "\n",
    "Compare performance you obtain that way.\n",
    "* Bonus : Additionally, you are encouraged to move all your logic to TensorFlow once you have completed the assignment. You can then instantiate a new environment such as Atari games, and pick a function approximator of your choice to see how convergence goes (see the Nature DQN paper for implementation details).\n"
   ]
  },
  {
   "cell_type": "code",
   "execution_count": 36,
   "metadata": {
    "scrolled": false
   },
   "outputs": [],
   "source": [
    "# Try out this whole envrionment thingy\n",
    "import gym\n",
    "env = gym.make(\"FrozenLake-v0\")"
   ]
  },
  {
   "cell_type": "code",
   "execution_count": 21,
   "metadata": {},
   "outputs": [
    {
     "name": "stdout",
     "output_type": "stream",
     "text": [
      "Discrete(16) Discrete(4)\n"
     ]
    }
   ],
   "source": [
    "print(env.observation_space, env.action_space)"
   ]
  },
  {
   "cell_type": "code",
   "execution_count": 262,
   "metadata": {},
   "outputs": [],
   "source": [
    "# Build our little Q-Tabel\n",
    "import torch\n",
    "import random as rand\n",
    "\n",
    "q_table = torch.rand(16, 4) # uniform random [0,1]\n",
    "rewards = []\n",
    "\n",
    "def update(s, new_s, a, r, lr=0.1, gamma=0.99):\n",
    "    global q_table\n",
    "    q_table[s][a] += lr * (r + gamma * q_table[new_s][torch.argmax(q_table[new_s])] - q_table[s][a] )\n",
    "\n",
    "def policy(s, epsilon=0.3):\n",
    "    return rand.randint(0, 3) if rand.random() < epsilon else torch.argmax(q_table[s]).item()"
   ]
  },
  {
   "cell_type": "code",
   "execution_count": 263,
   "metadata": {},
   "outputs": [
    {
     "data": {
      "image/png": "[encoded data removed]",
      "text/plain": [
       "<Figure size 432x288 with 1 Axes>"
      ]
     },
     "metadata": {
      "needs_background": "light"
     },
     "output_type": "display_data"
    }
   ],
   "source": [
    "# Graph the Q-Table\n",
    "import matplotlib.pyplot as plt\n",
    "plt.imshow(q_table.t())\n",
    "plt.show()"
   ]
  },
  {
   "cell_type": "code",
   "execution_count": 264,
   "metadata": {},
   "outputs": [
    {
     "data": {
      "image/png": "[encoded data removed]",
      "text/plain": [
       "<Figure size 720x360 with 2 Axes>"
      ]
     },
     "metadata": {
      "needs_background": "light"
     },
     "output_type": "display_data"
    },
    {
     "name": "stdout",
     "output_type": "stream",
     "text": [
      "DONE!\n"
     ]
    }
   ],
   "source": [
    "# Train our Q-Table\n",
    "from IPython.display import clear_output\n",
    "\n",
    "epsilon = 0.4\n",
    "ep = 0\n",
    "while ep < 1e6:\n",
    "    r = 0.\n",
    "    done = False\n",
    "    s = env.reset()\n",
    "    while not done:\n",
    "        action = policy(s, epsilon)\n",
    "        state, reward, done, _ = env.step(action)\n",
    "        r += reward\n",
    "        update(s, state, action, reward)\n",
    "        s = state\n",
    "    if ep % 100 == 0:\n",
    "        _, ax = plt.subplots(1, 2, figsize=(10, 5))\n",
    "        ax[0].plot(rewards)\n",
    "        ax[1].imshow(q_table)\n",
    "        plt.show()\n",
    "        print(epsilon, \"({:.2f}% complete)\".format(ep/1e4))\n",
    "        clear_output(wait=True)\n",
    "        rewards.append(r)\n",
    "    else:\n",
    "        rewards[-1] += r\n",
    "    ep += 1\n",
    "\n",
    "_, ax = plt.subplots(1, 2, figsize=(10, 5))\n",
    "ax[0].plot(rewards)\n",
    "ax[1].imshow(q_table)\n",
    "plt.show()\n",
    "print(\"DONE!\")"
   ]
  },
  {
   "cell_type": "code",
   "execution_count": 268,
   "metadata": {},
   "outputs": [
    {
     "name": "stdout",
     "output_type": "stream",
     "text": [
      "Wins 73.58%\n"
     ]
    }
   ],
   "source": [
    "# Test the tabel by playing 1000 games\n",
    "wins = 0\n",
    "for eps in range(5000):\n",
    "    done = False\n",
    "    s = env.reset()\n",
    "    while not done:\n",
    "        s, r, done, _ = env.step(policy(s, 0))\n",
    "        wins += r\n",
    "print(\"Wins {:.2f}%\".format(wins/5e3*100))"
   ]
  },
  {
   "cell_type": "markdown",
   "metadata": {},
   "source": [
    "## Try on-policy update method"
   ]
  },
  {
   "cell_type": "code",
   "execution_count": 242,
   "metadata": {},
   "outputs": [],
   "source": [
    "# On policy q-table\n",
    "\n",
    "q_table_op = torch.rand(16, 4) # uniform random [0,1]\n",
    "rewards_op = []\n",
    "\n",
    "def update_op(s, new_s, a, new_a, r, lr=0.1, gamma=0.99):\n",
    "    global q_table_op\n",
    "    q_table_op[s][a] += lr * (r + gamma * q_table_op[new_s][new_a] - q_table_op[s][a])\n",
    "    \n",
    "def policy_op(s, epsilon=0.3):\n",
    "    return rand.randint(0, 3) if rand.random() < epsilon else torch.argmax(q_table_op[s]).item()"
   ]
  },
  {
   "cell_type": "code",
   "execution_count": 255,
   "metadata": {},
   "outputs": [
    {
     "data": {
      "image/png": "[encoded data removed]",
      "text/plain": [
       "<Figure size 720x360 with 2 Axes>"
      ]
     },
     "metadata": {
      "needs_background": "light"
     },
     "output_type": "display_data"
    },
    {
     "name": "stdout",
     "output_type": "stream",
     "text": [
      "DONE!\n"
     ]
    }
   ],
   "source": [
    "# Train our Q-Table\n",
    "\n",
    "epsilon_op = 0.4\n",
    "ep = 0\n",
    "while ep < 1e6:\n",
    "    r = 0.\n",
    "    done = False\n",
    "    s = env.reset()\n",
    "    while not done:\n",
    "        action = policy_op(s, epsilon)\n",
    "        state, reward, done, _ = env.step(action)\n",
    "        r += reward\n",
    "        update_op(s, state, action, policy_op(state, epsilon), reward)\n",
    "        s = state\n",
    "    if ep % 100 == 0:\n",
    "        _, ax = plt.subplots(1, 2, figsize=(10, 5))\n",
    "        ax[0].plot(rewards_op)\n",
    "        ax[1].imshow(q_table_op)\n",
    "        plt.show()\n",
    "        print(epsilon_op, \"({:.2f}% complete)\".format(ep/1e4))\n",
    "        clear_output(wait=True)\n",
    "        rewards_op.append(r)\n",
    "    else:\n",
    "        rewards_op[-1] += r\n",
    "    ep += 1\n",
    "\n",
    "_, ax = plt.subplots(1, 2, figsize=(10, 5))\n",
    "ax[0].plot(rewards_op)\n",
    "ax[1].imshow(q_table_op)\n",
    "plt.show()\n",
    "print(\"DONE!\")"
   ]
  },
  {
   "cell_type": "code",
   "execution_count": 259,
   "metadata": {},
   "outputs": [
    {
     "name": "stdout",
     "output_type": "stream",
     "text": [
      "Wins 7.04%\n"
     ]
    }
   ],
   "source": [
    "# Test the tabel by playing 1000 games\n",
    "wins = 0\n",
    "for eps in range(5000):\n",
    "    done = False\n",
    "    s = env.reset()\n",
    "    while not done:\n",
    "        s, r, done, _ = env.step(policy_op(s, 0))\n",
    "        wins += r\n",
    "print(\"Wins {:.2f}%\".format(wins/5e3*100))"
   ]
  },
  {
   "cell_type": "markdown",
   "metadata": {},
   "source": [
    "## Compare resulting q-tables"
   ]
  },
  {
   "cell_type": "code",
   "execution_count": 251,
   "metadata": {},
   "outputs": [
    {
     "data": {
      "image/png": "[encoded data removed]",
      "text/plain": [
       "<Figure size 432x360 with 3 Axes>"
      ]
     },
     "metadata": {
      "needs_background": "light"
     },
     "output_type": "display_data"
    }
   ],
   "source": [
    "_, ax = plt.subplots(1, 3, figsize=(6, 5))\n",
    "ax[0].imshow(q_table)\n",
    "ax[0].set_title(\"Off Policy Updates\")\n",
    "ax[1].imshow(q_table_op)\n",
    "ax[1].set_title(\"On Policy Updates\")\n",
    "\n",
    "ax[2].imshow(q_table - q_table_op)\n",
    "ax[2].set_title(\"Difference\")\n",
    "\n",
    "plt.show()"
   ]
  },
  {
   "cell_type": "markdown",
   "metadata": {},
   "source": [
    "## Try Q Learning on a more complex task with fn approximation"
   ]
  },
  {
   "cell_type": "code",
   "execution_count": null,
   "metadata": {},
   "outputs": [],
   "source": [
    "# TODO"
   ]
  }
 ],
 "metadata": {
  "kernelspec": {
   "display_name": "Python 3",
   "language": "python",
   "name": "python3"
  },
  "language_info": {
   "codemirror_mode": {
    "name": "ipython",
    "version": 3
   },
   "file_extension": ".py",
   "mimetype": "text/x-python",
   "name": "python",
   "nbconvert_exporter": "python",
   "pygments_lexer": "ipython3",
   "version": "3.6.6"
  }
 },
 "nbformat": 4,
 "nbformat_minor": 2
}
